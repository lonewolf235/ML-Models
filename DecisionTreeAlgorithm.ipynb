{
  "nbformat": 4,
  "nbformat_minor": 0,
  "metadata": {
    "colab": {
      "name": "DecisionTreeAlgorithm.ipynb",
      "provenance": [],
      "collapsed_sections": [],
      "mount_file_id": "1xsHA9w7FS6pPaOT0z7C3xKaPP_Fxf2Xm",
      "authorship_tag": "ABX9TyPv3Yus4kXhDdLICw80o+GO",
      "include_colab_link": true
    },
    "kernelspec": {
      "name": "python3",
      "display_name": "Python 3"
    },
    "language_info": {
      "name": "python"
    }
  },
  "cells": [
    {
      "cell_type": "markdown",
      "metadata": {
        "id": "view-in-github",
        "colab_type": "text"
      },
      "source": [
        "<a href=\"https://colab.research.google.com/github/lonewolf235/ML-Models/blob/main/DecisionTreeAlgorithm.ipynb\" target=\"_parent\"><img src=\"https://colab.research.google.com/assets/colab-badge.svg\" alt=\"Open In Colab\"/></a>"
      ]
    },
    {
      "cell_type": "markdown",
      "metadata": {
        "id": "00TS20UzEoeO"
      },
      "source": [
        "# Machine learning model using decision tree algorithm\n"
      ]
    },
    {
      "cell_type": "code",
      "metadata": {
        "id": "_YUMk4p8ZfQJ"
      },
      "source": [
        "import pandas as pd\n",
        "import numpy as np"
      ],
      "execution_count": null,
      "outputs": []
    },
    {
      "cell_type": "code",
      "metadata": {
        "colab": {
          "base_uri": "https://localhost:8080/",
          "height": 241
        },
        "id": "D_shMEdeZ3wF",
        "outputId": "4cf0ba97-da24-4e58-e21d-94f5b261544d"
      },
      "source": [
        "from google.colab import drive\n",
        "drive.mount('/content/drive')\n",
        "filename='/content/drive/My Drive/Datasets/apndcts.csv'\n",
        "data=pd.read_csv(filename)\n",
        "print(data.shape)\n",
        "data.head()"
      ],
      "execution_count": null,
      "outputs": [
        {
          "output_type": "stream",
          "name": "stdout",
          "text": [
            "Drive already mounted at /content/drive; to attempt to forcibly remount, call drive.mount(\"/content/drive\", force_remount=True).\n",
            "(106, 8)\n"
          ]
        },
        {
          "output_type": "execute_result",
          "data": {
            "text/html": [
              "<div>\n",
              "<style scoped>\n",
              "    .dataframe tbody tr th:only-of-type {\n",
              "        vertical-align: middle;\n",
              "    }\n",
              "\n",
              "    .dataframe tbody tr th {\n",
              "        vertical-align: top;\n",
              "    }\n",
              "\n",
              "    .dataframe thead th {\n",
              "        text-align: right;\n",
              "    }\n",
              "</style>\n",
              "<table border=\"1\" class=\"dataframe\">\n",
              "  <thead>\n",
              "    <tr style=\"text-align: right;\">\n",
              "      <th></th>\n",
              "      <th>At1</th>\n",
              "      <th>At2</th>\n",
              "      <th>At3</th>\n",
              "      <th>At4</th>\n",
              "      <th>At5</th>\n",
              "      <th>At6</th>\n",
              "      <th>At7</th>\n",
              "      <th>class</th>\n",
              "    </tr>\n",
              "  </thead>\n",
              "  <tbody>\n",
              "    <tr>\n",
              "      <th>0</th>\n",
              "      <td>0.213</td>\n",
              "      <td>0.554</td>\n",
              "      <td>0.207</td>\n",
              "      <td>0.000</td>\n",
              "      <td>0.000</td>\n",
              "      <td>0.749</td>\n",
              "      <td>0.220</td>\n",
              "      <td>1</td>\n",
              "    </tr>\n",
              "    <tr>\n",
              "      <th>1</th>\n",
              "      <td>0.458</td>\n",
              "      <td>0.714</td>\n",
              "      <td>0.468</td>\n",
              "      <td>0.111</td>\n",
              "      <td>0.102</td>\n",
              "      <td>0.741</td>\n",
              "      <td>0.436</td>\n",
              "      <td>1</td>\n",
              "    </tr>\n",
              "    <tr>\n",
              "      <th>2</th>\n",
              "      <td>0.102</td>\n",
              "      <td>0.518</td>\n",
              "      <td>0.111</td>\n",
              "      <td>0.056</td>\n",
              "      <td>0.022</td>\n",
              "      <td>0.506</td>\n",
              "      <td>0.086</td>\n",
              "      <td>1</td>\n",
              "    </tr>\n",
              "    <tr>\n",
              "      <th>3</th>\n",
              "      <td>0.187</td>\n",
              "      <td>0.196</td>\n",
              "      <td>0.105</td>\n",
              "      <td>0.056</td>\n",
              "      <td>0.029</td>\n",
              "      <td>0.133</td>\n",
              "      <td>0.085</td>\n",
              "      <td>1</td>\n",
              "    </tr>\n",
              "    <tr>\n",
              "      <th>4</th>\n",
              "      <td>0.236</td>\n",
              "      <td>0.804</td>\n",
              "      <td>0.289</td>\n",
              "      <td>0.111</td>\n",
              "      <td>0.066</td>\n",
              "      <td>0.756</td>\n",
              "      <td>0.241</td>\n",
              "      <td>1</td>\n",
              "    </tr>\n",
              "  </tbody>\n",
              "</table>\n",
              "</div>"
            ],
            "text/plain": [
              "     At1    At2    At3    At4    At5    At6    At7  class\n",
              "0  0.213  0.554  0.207  0.000  0.000  0.749  0.220      1\n",
              "1  0.458  0.714  0.468  0.111  0.102  0.741  0.436      1\n",
              "2  0.102  0.518  0.111  0.056  0.022  0.506  0.086      1\n",
              "3  0.187  0.196  0.105  0.056  0.029  0.133  0.085      1\n",
              "4  0.236  0.804  0.289  0.111  0.066  0.756  0.241      1"
            ]
          },
          "metadata": {},
          "execution_count": 4
        }
      ]
    },
    {
      "cell_type": "code",
      "metadata": {
        "id": "4JAFd0e8bbKg"
      },
      "source": [
        "predictors=data.iloc[:,0:7]\n",
        "target=data.iloc[:,7]"
      ],
      "execution_count": null,
      "outputs": []
    },
    {
      "cell_type": "code",
      "metadata": {
        "id": "gjLc-AdAdHmp"
      },
      "source": [
        "from sklearn.model_selection import train_test_split\n",
        "\n",
        "predictors_train, predictors_test, target_train, target_test =train_test_split(predictors, target, test_size=0.3, random_state=121)\n"
      ],
      "execution_count": null,
      "outputs": []
    },
    {
      "cell_type": "code",
      "metadata": {
        "colab": {
          "base_uri": "https://localhost:8080/"
        },
        "id": "oM8GDzKcfAfD",
        "outputId": "acd059cc-2e8e-43a4-a2ba-8befce3675cf"
      },
      "source": [
        "from sklearn.tree import DecisionTreeClassifier\n",
        "dtree_entropy=DecisionTreeClassifier(criterion=\"entropy\", max_depth=3 )\n",
        "\n",
        "model1=dtree_entropy.fit(predictors_train, target_train)\n",
        "\n",
        "predictions= dtree_entropy.predict(predictors_test)\n",
        "print(predictions)"
      ],
      "execution_count": null,
      "outputs": [
        {
          "output_type": "stream",
          "name": "stdout",
          "text": [
            "[0 0 0 0 1 0 1 0 0 0 0 1 0 0 0 0 0 0 0 0 0 0 1 0 1 0 0 0 0 0 0 0]\n"
          ]
        }
      ]
    },
    {
      "cell_type": "code",
      "metadata": {
        "colab": {
          "base_uri": "https://localhost:8080/"
        },
        "id": "UyZ7MsZ0gYN-",
        "outputId": "cde15642-26e6-4874-fe8e-ee4443822273"
      },
      "source": [
        "print(target_test)"
      ],
      "execution_count": null,
      "outputs": [
        {
          "output_type": "stream",
          "name": "stdout",
          "text": [
            "35     0\n",
            "41     0\n",
            "5      1\n",
            "40     0\n",
            "36     0\n",
            "82     0\n",
            "96     0\n",
            "69     0\n",
            "3      1\n",
            "76     0\n",
            "48     0\n",
            "93     0\n",
            "60     0\n",
            "81     0\n",
            "12     1\n",
            "16     1\n",
            "78     0\n",
            "66     0\n",
            "59     0\n",
            "83     0\n",
            "38     0\n",
            "99     0\n",
            "18     1\n",
            "31     0\n",
            "70     0\n",
            "25     0\n",
            "43     0\n",
            "55     0\n",
            "29     0\n",
            "85     0\n",
            "100    0\n",
            "32     0\n",
            "Name: class, dtype: int64\n"
          ]
        }
      ]
    },
    {
      "cell_type": "code",
      "metadata": {
        "colab": {
          "base_uri": "https://localhost:8080/"
        },
        "id": "G_vuzucSgluY",
        "outputId": "5863b221-5b83-4f02-f1a8-57056875136c"
      },
      "source": [
        "from sklearn.metrics import accuracy_score\n",
        "\n",
        "accuracy_score(target_test,predictions)"
      ],
      "execution_count": null,
      "outputs": [
        {
          "output_type": "execute_result",
          "data": {
            "text/plain": [
              "0.9375"
            ]
          },
          "metadata": {},
          "execution_count": 20
        }
      ]
    }
  ]
}